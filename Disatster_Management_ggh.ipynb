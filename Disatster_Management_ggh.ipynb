{
  "cells": [
    {
      "cell_type": "code",
      "execution_count": 2,
      "metadata": {
        "colab": {
          "base_uri": "https://localhost:8080/"
        },
        "id": "A8z3hsk0c3Xl",
        "outputId": "a5d552a5-1ea6-4335-fd7d-1fcfd865244e"
      },
      "outputs": [
        {
          "name": "stderr",
          "output_type": "stream",
          "text": [
            "\n",
            "[notice] A new release of pip available: 22.2.2 -> 24.0\n",
            "[notice] To update, run: python.exe -m pip install --upgrade pip\n"
          ]
        },
        {
          "name": "stdout",
          "output_type": "stream",
          "text": [
            "Collecting scikit-fuzzy\n",
            "  Using cached scikit-fuzzy-0.4.2.tar.gz (993 kB)\n",
            "  Preparing metadata (setup.py): started\n",
            "  Preparing metadata (setup.py): finished with status 'done'\n",
            "Requirement already satisfied: numpy>=1.6.0 in c:\\users\\user\\appdata\\local\\programs\\python\\python310\\lib\\site-packages (from scikit-fuzzy) (1.23.1)\n",
            "Requirement already satisfied: scipy>=0.9.0 in c:\\users\\user\\appdata\\local\\programs\\python\\python310\\lib\\site-packages (from scikit-fuzzy) (1.9.0)\n",
            "Collecting networkx>=1.9.0\n",
            "  Downloading networkx-3.3-py3-none-any.whl (1.7 MB)\n",
            "     ---------------------------------------- 1.7/1.7 MB 2.8 MB/s eta 0:00:00\n",
            "Using legacy 'setup.py install' for scikit-fuzzy, since package 'wheel' is not installed.\n",
            "Installing collected packages: networkx, scikit-fuzzy\n",
            "  Running setup.py install for scikit-fuzzy: started\n",
            "  Running setup.py install for scikit-fuzzy: finished with status 'done'\n",
            "Successfully installed networkx-3.3 scikit-fuzzy-0.4.2\n",
            "Note: you may need to restart the kernel to use updated packages.\n",
            "Rescue Efforts: 5.089491406079368\n",
            "Resource Allocation: 4.8327105832681765\n",
            "Evacuation Order: 5.255938508309961\n",
            "Severity of the disaster: 5.062391289905188\n"
          ]
        }
      ],
      "source": [
        "%pip install scikit-fuzzy\n",
        "\n",
        "import numpy as np\n",
        "import skfuzzy as fuzz\n",
        "from skfuzzy import control as ctrl\n",
        "\n",
        "magnitude = ctrl.Antecedent(np.arange(0, 11, 1), 'magnitude')\n",
        "depth = ctrl.Antecedent(np.arange(0, 11, 1), 'depth')\n",
        "population_density = ctrl.Antecedent(np.arange(0, 11, 1), 'population_density')\n",
        "building_infrastructure = ctrl.Antecedent(np.arange(0, 11, 1), 'building_infrastructure')\n",
        "\n",
        "rescue_efforts = ctrl.Consequent(np.arange(0, 11, 1), 'rescue_efforts')\n",
        "resource_allocation = ctrl.Consequent(np.arange(0, 11, 1), 'resource_allocation')\n",
        "evacuation_order = ctrl.Consequent(np.arange(0, 11, 1), 'evacuation_order')\n",
        "\n",
        "magnitude['small'] = fuzz.trimf(magnitude.universe, [0, 0, 5])\n",
        "magnitude['moderate'] = fuzz.trimf(magnitude.universe, [2, 5, 8])\n",
        "magnitude['large'] = fuzz.trimf(magnitude.universe, [5, 10, 10])\n",
        "\n",
        "depth['shallow'] = fuzz.gaussmf(depth.universe, 0, 2)\n",
        "depth['moderate'] = fuzz.gaussmf(depth.universe, 5, 2)\n",
        "depth['deep'] = fuzz.gaussmf(depth.universe, 10, 2)\n",
        "\n",
        "population_density['low'] = fuzz.trapmf(population_density.universe, [0, 0, 3, 6])\n",
        "population_density['medium'] = fuzz.trapmf(population_density.universe, [3, 5, 6, 8])\n",
        "population_density['high'] = fuzz.trapmf(population_density.universe, [6, 9, 10, 10])\n",
        "\n",
        "building_infrastructure['low'] = fuzz.sigmf(building_infrastructure.universe, 3, -1)\n",
        "building_infrastructure['medium'] = fuzz.sigmf(building_infrastructure.universe, 5, 0)\n",
        "building_infrastructure['high'] = fuzz.sigmf(building_infrastructure.universe, 7, 1)\n",
        "\n",
        "rescue_efforts['low'] = fuzz.trimf(rescue_efforts.universe, [0, 0, 3])\n",
        "rescue_efforts['medium'] = fuzz.trimf(rescue_efforts.universe, [2, 4, 7])\n",
        "rescue_efforts['high'] = fuzz.trimf(rescue_efforts.universe, [5, 10, 10])\n",
        "\n",
        "resource_allocation['low'] = fuzz.trimf(resource_allocation.universe, [0, 0, 2])\n",
        "resource_allocation['medium'] = fuzz.trimf(resource_allocation.universe, [1, 5, 7])\n",
        "resource_allocation['high'] = fuzz.trimf(resource_allocation.universe, [6, 10, 10])\n",
        "\n",
        "evacuation_order['none'] = fuzz.trimf(evacuation_order.universe, [0, 0, 3])\n",
        "evacuation_order['partial'] = fuzz.trimf(evacuation_order.universe, [2, 5, 7])\n",
        "evacuation_order['full'] = fuzz.trimf(evacuation_order.universe, [6, 10, 10])\n",
        "\n",
        "rule1 = ctrl.Rule(magnitude['large'] & population_density['high'] & depth['deep'] & building_infrastructure['high'], [rescue_efforts['high'], resource_allocation['high'], evacuation_order['full']])\n",
        "rule2 = ctrl.Rule(magnitude['moderate'] & population_density['medium'] & depth['moderate'] & building_infrastructure['medium'], [rescue_efforts['medium'], resource_allocation['medium'], evacuation_order['partial']])\n",
        "rule3 = ctrl.Rule(magnitude['small'] & population_density['low'] & depth['shallow'] & building_infrastructure['low'], [rescue_efforts['low'], resource_allocation['low'], evacuation_order['none']])\n",
        "rule4 = ctrl.Rule(magnitude['large'] & population_density['high'] & depth['deep'] & building_infrastructure['low'], [rescue_efforts['medium'], resource_allocation['high'], evacuation_order['partial']])\n",
        "rule5 = ctrl.Rule(magnitude['moderate'] & population_density['medium'] & depth['moderate'] & building_infrastructure['high'], [rescue_efforts['high'], resource_allocation['high'], evacuation_order['full']])\n",
        "rule6 = ctrl.Rule(magnitude['small'] & population_density['low'] & depth['shallow'] & building_infrastructure['medium'], [rescue_efforts['low'], resource_allocation['low'], evacuation_order['none']])\n",
        "rule7 = ctrl.Rule(magnitude['large'] & population_density['high'] & depth['deep'] & building_infrastructure['medium'], [rescue_efforts['high'], resource_allocation['high'], evacuation_order['full']])\n",
        "rule8 = ctrl.Rule(magnitude['moderate'] & population_density['medium'] & depth['moderate'] & building_infrastructure['low'], [rescue_efforts['medium'], resource_allocation['medium'], evacuation_order['partial']])\n",
        "rule9 = ctrl.Rule(magnitude['small'] & population_density['low'] & depth['shallow'] & building_infrastructure['high'], [rescue_efforts['low'], resource_allocation['low'], evacuation_order['none']])\n",
        "rule10 = ctrl.Rule(magnitude['large'] & population_density['high'] & depth['deep'] & building_infrastructure['high'], [rescue_efforts['high'], resource_allocation['high'], evacuation_order['full']])\n",
        "\n",
        "fis = ctrl.ControlSystem([rule1, rule2, rule3, rule4, rule5, rule6, rule7, rule8, rule9, rule10])\n",
        "\n",
        "fis_simulation = ctrl.ControlSystemSimulation(fis)\n",
        "\n",
        "fis_simulation.input['magnitude'] = 5\n",
        "fis_simulation.input['depth'] = 5\n",
        "fis_simulation.input['population_density'] = 5\n",
        "fis_simulation.input['building_infrastructure'] = 5\n",
        "\n",
        "fis_simulation.compute()\n",
        "\n",
        "print(\"Rescue Efforts:\", fis_simulation.output['rescue_efforts'])\n",
        "print(\"Resource Allocation:\", fis_simulation.output['resource_allocation'])\n",
        "print(\"Evacuation Order:\", fis_simulation.output['evacuation_order'])\n",
        "\n",
        "weights = {\n",
        "    'rescue_efforts': 0.4,\n",
        "    'resource_allocation': 0.3,\n",
        "    'evacuation_order': 0.3\n",
        "}\n",
        "\n",
        "severity = (fis_simulation.output['rescue_efforts'] * weights['rescue_efforts'] +\n",
        "            fis_simulation.output['resource_allocation'] * weights['resource_allocation'] +\n",
        "            fis_simulation.output['evacuation_order'] * weights['evacuation_order'])\n",
        "\n",
        "print(\"Severity of the disaster:\", severity)\n"
      ]
    }
  ],
  "metadata": {
    "colab": {
      "provenance": []
    },
    "kernelspec": {
      "display_name": "Python 3",
      "name": "python3"
    },
    "language_info": {
      "codemirror_mode": {
        "name": "ipython",
        "version": 3
      },
      "file_extension": ".py",
      "mimetype": "text/x-python",
      "name": "python",
      "nbconvert_exporter": "python",
      "pygments_lexer": "ipython3",
      "version": "3.10.5"
    }
  },
  "nbformat": 4,
  "nbformat_minor": 0
}
